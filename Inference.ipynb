{
 "cells": [
  {
   "cell_type": "code",
   "execution_count": null,
   "id": "5d49fdeb-5ccc-4d3e-9070-548e214c4b29",
   "metadata": {},
   "outputs": [],
   "source": [
    "#Insert embeddings into pandas dataframe for inference"
   ]
  },
  {
   "cell_type": "code",
   "execution_count": 1,
   "id": "bd9ca1b2-180a-455b-a252-6c1a45885443",
   "metadata": {},
   "outputs": [],
   "source": [
    "import pandas as pd"
   ]
  },
  {
   "cell_type": "code",
   "execution_count": 2,
   "id": "70bb171b-7069-434f-8ac2-d4c989d7d323",
   "metadata": {},
   "outputs": [],
   "source": [
    "songEmbed = pd.read_csv('/Users/kushagrakhatwani/Downloads/emb_word2vec_2M.tsv', sep='\\t', header = None)"
   ]
  },
  {
   "cell_type": "code",
   "execution_count": 5,
   "id": "a8aea54f-045a-478e-9757-b1c7eb56d508",
   "metadata": {},
   "outputs": [
    {
     "data": {
      "text/html": [
       "<div>\n",
       "<style scoped>\n",
       "    .dataframe tbody tr th:only-of-type {\n",
       "        vertical-align: middle;\n",
       "    }\n",
       "\n",
       "    .dataframe tbody tr th {\n",
       "        vertical-align: top;\n",
       "    }\n",
       "\n",
       "    .dataframe thead th {\n",
       "        text-align: right;\n",
       "    }\n",
       "</style>\n",
       "<table border=\"1\" class=\"dataframe\">\n",
       "  <thead>\n",
       "    <tr style=\"text-align: right;\">\n",
       "      <th></th>\n",
       "      <th>0</th>\n",
       "      <th>1</th>\n",
       "      <th>2</th>\n",
       "      <th>3</th>\n",
       "      <th>4</th>\n",
       "      <th>5</th>\n",
       "      <th>6</th>\n",
       "      <th>7</th>\n",
       "      <th>8</th>\n",
       "      <th>9</th>\n",
       "      <th>...</th>\n",
       "      <th>22</th>\n",
       "      <th>23</th>\n",
       "      <th>24</th>\n",
       "      <th>25</th>\n",
       "      <th>26</th>\n",
       "      <th>27</th>\n",
       "      <th>28</th>\n",
       "      <th>29</th>\n",
       "      <th>30</th>\n",
       "      <th>31</th>\n",
       "    </tr>\n",
       "  </thead>\n",
       "  <tbody>\n",
       "    <tr>\n",
       "      <th>0</th>\n",
       "      <td>0.170759</td>\n",
       "      <td>-0.169853</td>\n",
       "      <td>0.300353</td>\n",
       "      <td>-0.433129</td>\n",
       "      <td>-0.073195</td>\n",
       "      <td>-0.146205</td>\n",
       "      <td>-0.183122</td>\n",
       "      <td>-0.168517</td>\n",
       "      <td>-0.280988</td>\n",
       "      <td>0.408113</td>\n",
       "      <td>...</td>\n",
       "      <td>0.033185</td>\n",
       "      <td>-0.304589</td>\n",
       "      <td>-0.427648</td>\n",
       "      <td>0.202751</td>\n",
       "      <td>0.138046</td>\n",
       "      <td>-0.393712</td>\n",
       "      <td>0.309896</td>\n",
       "      <td>-0.220839</td>\n",
       "      <td>-0.349681</td>\n",
       "      <td>-0.087443</td>\n",
       "    </tr>\n",
       "    <tr>\n",
       "      <th>1</th>\n",
       "      <td>-0.124226</td>\n",
       "      <td>-0.166337</td>\n",
       "      <td>0.335503</td>\n",
       "      <td>-0.362530</td>\n",
       "      <td>-0.149489</td>\n",
       "      <td>-0.403289</td>\n",
       "      <td>-0.004213</td>\n",
       "      <td>0.010922</td>\n",
       "      <td>0.028406</td>\n",
       "      <td>0.143717</td>\n",
       "      <td>...</td>\n",
       "      <td>-0.323346</td>\n",
       "      <td>0.127613</td>\n",
       "      <td>0.193298</td>\n",
       "      <td>0.049566</td>\n",
       "      <td>0.383433</td>\n",
       "      <td>-0.116344</td>\n",
       "      <td>0.546167</td>\n",
       "      <td>0.235206</td>\n",
       "      <td>-0.284042</td>\n",
       "      <td>-0.097694</td>\n",
       "    </tr>\n",
       "    <tr>\n",
       "      <th>2</th>\n",
       "      <td>-0.151025</td>\n",
       "      <td>0.491506</td>\n",
       "      <td>0.593315</td>\n",
       "      <td>-0.954169</td>\n",
       "      <td>-0.525090</td>\n",
       "      <td>-0.300619</td>\n",
       "      <td>-0.227297</td>\n",
       "      <td>-0.721840</td>\n",
       "      <td>-0.173667</td>\n",
       "      <td>-0.399060</td>\n",
       "      <td>...</td>\n",
       "      <td>-0.086917</td>\n",
       "      <td>0.086334</td>\n",
       "      <td>0.961037</td>\n",
       "      <td>-0.178883</td>\n",
       "      <td>0.279249</td>\n",
       "      <td>0.136407</td>\n",
       "      <td>0.884335</td>\n",
       "      <td>0.344204</td>\n",
       "      <td>-0.424628</td>\n",
       "      <td>-0.158879</td>\n",
       "    </tr>\n",
       "    <tr>\n",
       "      <th>3</th>\n",
       "      <td>-0.040341</td>\n",
       "      <td>-0.368661</td>\n",
       "      <td>0.322449</td>\n",
       "      <td>0.060857</td>\n",
       "      <td>-0.161765</td>\n",
       "      <td>-0.354363</td>\n",
       "      <td>-0.270621</td>\n",
       "      <td>-0.434201</td>\n",
       "      <td>-0.632543</td>\n",
       "      <td>-0.152007</td>\n",
       "      <td>...</td>\n",
       "      <td>0.157554</td>\n",
       "      <td>0.203426</td>\n",
       "      <td>-0.053728</td>\n",
       "      <td>-0.164640</td>\n",
       "      <td>0.497353</td>\n",
       "      <td>-0.001942</td>\n",
       "      <td>0.526925</td>\n",
       "      <td>-0.154109</td>\n",
       "      <td>0.099861</td>\n",
       "      <td>-0.398047</td>\n",
       "    </tr>\n",
       "    <tr>\n",
       "      <th>4</th>\n",
       "      <td>-0.580748</td>\n",
       "      <td>-0.323054</td>\n",
       "      <td>-0.463084</td>\n",
       "      <td>0.278989</td>\n",
       "      <td>-0.234253</td>\n",
       "      <td>-0.869133</td>\n",
       "      <td>-0.550567</td>\n",
       "      <td>0.214883</td>\n",
       "      <td>-0.639492</td>\n",
       "      <td>-0.333110</td>\n",
       "      <td>...</td>\n",
       "      <td>0.096742</td>\n",
       "      <td>0.010561</td>\n",
       "      <td>0.125425</td>\n",
       "      <td>0.132857</td>\n",
       "      <td>-0.234901</td>\n",
       "      <td>-0.148464</td>\n",
       "      <td>-0.163571</td>\n",
       "      <td>0.120459</td>\n",
       "      <td>0.068198</td>\n",
       "      <td>0.716602</td>\n",
       "    </tr>\n",
       "  </tbody>\n",
       "</table>\n",
       "<p>5 rows × 32 columns</p>\n",
       "</div>"
      ],
      "text/plain": [
       "         0         1         2         3         4         5         6   \\\n",
       "0  0.170759 -0.169853  0.300353 -0.433129 -0.073195 -0.146205 -0.183122   \n",
       "1 -0.124226 -0.166337  0.335503 -0.362530 -0.149489 -0.403289 -0.004213   \n",
       "2 -0.151025  0.491506  0.593315 -0.954169 -0.525090 -0.300619 -0.227297   \n",
       "3 -0.040341 -0.368661  0.322449  0.060857 -0.161765 -0.354363 -0.270621   \n",
       "4 -0.580748 -0.323054 -0.463084  0.278989 -0.234253 -0.869133 -0.550567   \n",
       "\n",
       "         7         8         9   ...        22        23        24        25  \\\n",
       "0 -0.168517 -0.280988  0.408113  ...  0.033185 -0.304589 -0.427648  0.202751   \n",
       "1  0.010922  0.028406  0.143717  ... -0.323346  0.127613  0.193298  0.049566   \n",
       "2 -0.721840 -0.173667 -0.399060  ... -0.086917  0.086334  0.961037 -0.178883   \n",
       "3 -0.434201 -0.632543 -0.152007  ...  0.157554  0.203426 -0.053728 -0.164640   \n",
       "4  0.214883 -0.639492 -0.333110  ...  0.096742  0.010561  0.125425  0.132857   \n",
       "\n",
       "         26        27        28        29        30        31  \n",
       "0  0.138046 -0.393712  0.309896 -0.220839 -0.349681 -0.087443  \n",
       "1  0.383433 -0.116344  0.546167  0.235206 -0.284042 -0.097694  \n",
       "2  0.279249  0.136407  0.884335  0.344204 -0.424628 -0.158879  \n",
       "3  0.497353 -0.001942  0.526925 -0.154109  0.099861 -0.398047  \n",
       "4 -0.234901 -0.148464 -0.163571  0.120459  0.068198  0.716602  \n",
       "\n",
       "[5 rows x 32 columns]"
      ]
     },
     "execution_count": 5,
     "metadata": {},
     "output_type": "execute_result"
    }
   ],
   "source": [
    "songEmbed.head()"
   ]
  },
  {
   "cell_type": "code",
   "execution_count": 7,
   "id": "4fd027bf-b795-4a39-823c-775aad7b861b",
   "metadata": {},
   "outputs": [
    {
     "data": {
      "text/plain": [
       "(2262292, 32)"
      ]
     },
     "execution_count": 7,
     "metadata": {},
     "output_type": "execute_result"
    }
   ],
   "source": [
    "songEmbed.shape"
   ]
  },
  {
   "cell_type": "code",
   "execution_count": null,
   "id": "1190de28-c374-4d1c-bf7d-c2f41077bcd8",
   "metadata": {},
   "outputs": [],
   "source": [
    "#Insert Meta Data into csv for inference"
   ]
  },
  {
   "cell_type": "code",
   "execution_count": 9,
   "id": "f99dcdfb-822c-4cc5-8c4c-31558d194484",
   "metadata": {},
   "outputs": [],
   "source": [
    "meta = pd.read_csv('/Users/kushagrakhatwani/Downloads/meta_word2vec_2M.tsv', sep='\\t', header = None)"
   ]
  },
  {
   "cell_type": "code",
   "execution_count": 10,
   "id": "3e54ef68-c99a-4df2-9487-e2ff9da210f5",
   "metadata": {},
   "outputs": [
    {
     "data": {
      "text/html": [
       "<div>\n",
       "<style scoped>\n",
       "    .dataframe tbody tr th:only-of-type {\n",
       "        vertical-align: middle;\n",
       "    }\n",
       "\n",
       "    .dataframe tbody tr th {\n",
       "        vertical-align: top;\n",
       "    }\n",
       "\n",
       "    .dataframe thead th {\n",
       "        text-align: right;\n",
       "    }\n",
       "</style>\n",
       "<table border=\"1\" class=\"dataframe\">\n",
       "  <thead>\n",
       "    <tr style=\"text-align: right;\">\n",
       "      <th></th>\n",
       "      <th>0</th>\n",
       "    </tr>\n",
       "  </thead>\n",
       "  <tbody>\n",
       "    <tr>\n",
       "      <th>0</th>\n",
       "      <td>Encerrado estoy- La 25</td>\n",
       "    </tr>\n",
       "    <tr>\n",
       "      <th>1</th>\n",
       "      <td>The Charleston- Pee Wee Hunt</td>\n",
       "    </tr>\n",
       "    <tr>\n",
       "      <th>2</th>\n",
       "      <td>Song for Liam- Paris Café Society</td>\n",
       "    </tr>\n",
       "    <tr>\n",
       "      <th>3</th>\n",
       "      <td>Save The Last Dance For Me- On-Hold Music</td>\n",
       "    </tr>\n",
       "    <tr>\n",
       "      <th>4</th>\n",
       "      <td>Baby Mama- Three 6 Mafia</td>\n",
       "    </tr>\n",
       "  </tbody>\n",
       "</table>\n",
       "</div>"
      ],
      "text/plain": [
       "                                           0\n",
       "0                     Encerrado estoy- La 25\n",
       "1               The Charleston- Pee Wee Hunt\n",
       "2          Song for Liam- Paris Café Society\n",
       "3  Save The Last Dance For Me- On-Hold Music\n",
       "4                   Baby Mama- Three 6 Mafia"
      ]
     },
     "execution_count": 10,
     "metadata": {},
     "output_type": "execute_result"
    }
   ],
   "source": [
    "meta.head()"
   ]
  },
  {
   "cell_type": "code",
   "execution_count": 11,
   "id": "86a696c2-9a71-47be-ae59-4cd036e198be",
   "metadata": {},
   "outputs": [
    {
     "data": {
      "text/plain": [
       "(2261939, 1)"
      ]
     },
     "execution_count": 11,
     "metadata": {},
     "output_type": "execute_result"
    }
   ],
   "source": [
    "meta.shape"
   ]
  },
  {
   "cell_type": "code",
   "execution_count": null,
   "id": "71e6272b-4f28-42d5-8251-5a4a69862e67",
   "metadata": {},
   "outputs": [],
   "source": [
    "# pip install chromadb"
   ]
  },
  {
   "cell_type": "code",
   "execution_count": null,
   "id": "93c65be7-b766-4bd7-8495-8a8219801006",
   "metadata": {},
   "outputs": [],
   "source": [
    "#Use Chroma DB for vector search"
   ]
  },
  {
   "cell_type": "code",
   "execution_count": 15,
   "id": "8beede81-2554-4c0e-9b2a-0fd1c31564dc",
   "metadata": {},
   "outputs": [],
   "source": [
    "import chromadb\n",
    "from chromadb.config import Settings"
   ]
  },
  {
   "cell_type": "code",
   "execution_count": 17,
   "id": "821f6a27-798e-4f5b-a4bd-385c92e5be47",
   "metadata": {},
   "outputs": [],
   "source": [
    "# Configure ChromaDB\n",
    "client = chromadb.Client(Settings())\n",
    "\n",
    "# Create or connect to a collection\n",
    "collection = client.create_collection(name=\"song_embeddings\")\n"
   ]
  },
  {
   "cell_type": "code",
   "execution_count": 19,
   "id": "4fc42362-bc58-4ef7-9340-f2fa433c62fa",
   "metadata": {},
   "outputs": [],
   "source": [
    "# Limit the data to the first 100,000 entries\n",
    "songEmbed_subset = songEmbed.iloc[:100000]\n",
    "meta_subset = meta.iloc[:100000]\n"
   ]
  },
  {
   "cell_type": "code",
   "execution_count": 21,
   "id": "8e463407-722a-4b1b-9227-4199516c94aa",
   "metadata": {},
   "outputs": [],
   "source": [
    "# Convert song titles and embeddings into lists\n",
    "song_titles_subset = meta_subset[0].tolist()\n",
    "embeddings_subset = songEmbed_subset.values.tolist()  # Convert DataFrame to a list of lists\n",
    "ids = [str(i) for i in range(len(song_titles_subset))] "
   ]
  },
  {
   "cell_type": "code",
   "execution_count": 23,
   "id": "03c4ec00-fe69-48dd-8292-6bed1b03edd7",
   "metadata": {},
   "outputs": [
    {
     "name": "stdout",
     "output_type": "stream",
     "text": [
      "Added batch 1 from 0 to 40000\n",
      "Added batch 2 from 40000 to 80000\n",
      "Added batch 3 from 80000 to 100000\n"
     ]
    }
   ],
   "source": [
    "batch_size_limit = 40000\n",
    "\n",
    "# Add data in smaller batches\n",
    "for start in range(0, len(song_titles_subset), batch_size_limit):\n",
    "    end = min(start + batch_size_limit, len(song_titles_subset))  # Ensure the last batch is handled properly\n",
    "\n",
    "    batch_ids = ids[start:end]\n",
    "    batch_documents = song_titles_subset[start:end]\n",
    "    batch_embeddings = embeddings_subset[start:end]\n",
    "\n",
    "    # Add the current batch to the collection\n",
    "    collection.add(\n",
    "        ids=batch_ids,\n",
    "        documents=batch_documents,\n",
    "        embeddings=batch_embeddings\n",
    "    )\n",
    "\n",
    "    print(f\"Added batch {start // batch_size_limit + 1} from {start} to {end}\")"
   ]
  },
  {
   "cell_type": "code",
   "execution_count": null,
   "id": "9bcc2b25-c51c-4c4c-a18e-7fbc998d9835",
   "metadata": {},
   "outputs": [],
   "source": [
    "# Song : Last Christmas- ELIZA (We will get top 5 similar for this song)"
   ]
  },
  {
   "cell_type": "code",
   "execution_count": 27,
   "id": "761821e4-1c66-4899-b268-6fd25b4c93de",
   "metadata": {},
   "outputs": [
    {
     "name": "stdout",
     "output_type": "stream",
     "text": [
      "Results for the first song:\n",
      "Rank 1: Last Christmas- ELIZA\n",
      "Rank 2: Holiday Shaving Cream- Joel Samberg & Benny Bell\n",
      "Rank 3: Christmas Vacation- illScarlett\n",
      "Rank 4: Christmas Island- The Tesca Country Clan\n",
      "Rank 5: Go Tell It on the Mountain - Christmas Version- Go tell it on the mountain\n",
      "Rank 6: Away In A Manger- The Columba Minstrels\n",
      "Rank 7: Christmas Is A-Comin' (May God Bless You)- Bing Crosby\n",
      "Rank 8: The First Nowell- Ensamble Clement\n",
      "Rank 9: Christmas Rebellion- Jars Of Clay\n",
      "Rank 10: Lo! How a Rose E er Blooming- Southwestern Seminary Oratorio Chorus, The Fortworth Chamber Orchestra\n"
     ]
    }
   ],
   "source": [
    "import numpy as np\n",
    "christmasSongEmbedding = songEmbed.iloc[99952].values \n",
    "\n",
    "# Check if the embedding is valid\n",
    "if not np.isnan(christmasSongEmbedding).any():\n",
    "    # Query the collection with the first song's embedding\n",
    "    results = collection.query(\n",
    "        query_embeddings=[christmasSongEmbedding],\n",
    "        n_results=10  # Adjust this number to control how many similar results you want\n",
    "    )\n",
    "\n",
    "    # Display the results\n",
    "    print(\"Results for the first song:\")\n",
    "    for i, doc in enumerate(results['documents'][0]):\n",
    "        print(f\"Rank {i+1}: {doc}\")\n",
    "else:\n",
    "    print(\"The extracted embedding for the first song is invalid or contains NaN values.\")"
   ]
  },
  {
   "cell_type": "code",
   "execution_count": null,
   "id": "4cb4aa3a-0d7c-47dd-95c2-301648d20780",
   "metadata": {},
   "outputs": [],
   "source": [
    "# Song : White Iverson- Post Malone (We will get top 5 similar for this song)"
   ]
  },
  {
   "cell_type": "code",
   "execution_count": 29,
   "id": "529b1a56-4c44-4d61-b5cc-154566769457",
   "metadata": {},
   "outputs": [
    {
     "name": "stdout",
     "output_type": "stream",
     "text": [
      "Results for the first song:\n",
      "Rank 1: White Iverson- Post Malone\n",
      "Rank 2: Broccoli (feat. Lil Yachty)- DRAM\n",
      "Rank 3: I Serve the Base- Future\n",
      "Rank 4: Bad Tings- Zoey Dollaz\n",
      "Rank 5: Home Team- Open Minds\n"
     ]
    }
   ],
   "source": [
    "postMaloneSongembedding = songEmbed.iloc[49132].values \n",
    "\n",
    "# Check if the embedding is valid\n",
    "if not np.isnan(postMaloneSongembedding).any():\n",
    "    # Query the collection with the first song's embedding\n",
    "    results = collection.query(\n",
    "        query_embeddings=[postMaloneSongembedding],\n",
    "        n_results=5  # Adjust this number to control how many similar results you want\n",
    "    )\n",
    "\n",
    "    # Display the results\n",
    "    print(\"Results for the first song:\")\n",
    "    for i, doc in enumerate(results['documents'][0]):\n",
    "        print(f\"Rank {i+1}: {doc}\")\n",
    "else:\n",
    "    print(\"The extracted embedding for the first song is invalid or contains NaN values.\")"
   ]
  },
  {
   "cell_type": "code",
   "execution_count": null,
   "id": "8ec81c06-d4d0-4b35-9097-12bf51ac9c77",
   "metadata": {},
   "outputs": [],
   "source": []
  }
 ],
 "metadata": {
  "kernelspec": {
   "display_name": "Python 3 (ipykernel)",
   "language": "python",
   "name": "python3"
  },
  "language_info": {
   "codemirror_mode": {
    "name": "ipython",
    "version": 3
   },
   "file_extension": ".py",
   "mimetype": "text/x-python",
   "name": "python",
   "nbconvert_exporter": "python",
   "pygments_lexer": "ipython3",
   "version": "3.12.2"
  }
 },
 "nbformat": 4,
 "nbformat_minor": 5
}
